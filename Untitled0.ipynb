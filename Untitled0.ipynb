{
  "cells": [
    {
      "cell_type": "markdown",
      "metadata": {
        "id": "view-in-github",
        "colab_type": "text"
      },
      "source": [
        "<a href=\"https://colab.research.google.com/github/Telliliskander/tug/blob/main/Untitled0.ipynb\" target=\"_parent\"><img src=\"https://colab.research.google.com/assets/colab-badge.svg\" alt=\"Open In Colab\"/></a>"
      ]
    },
    {
      "cell_type": "code",
      "execution_count": null,
      "metadata": {
        "colab": {
          "base_uri": "https://localhost:8080/"
        },
        "id": "OcLX0pYsFzwz",
        "outputId": "4349694c-192b-4554-83bd-086dd8593d57"
      },
      "outputs": [
        {
          "name": "stdout",
          "output_type": "stream",
          "text": [
            "Requirement already satisfied: tensorflow in /usr/local/lib/python3.7/dist-packages (2.8.0)\n",
            "Requirement already satisfied: h5py>=2.9.0 in /usr/local/lib/python3.7/dist-packages (from tensorflow) (3.1.0)\n",
            "Requirement already satisfied: flatbuffers>=1.12 in /usr/local/lib/python3.7/dist-packages (from tensorflow) (2.0)\n",
            "Requirement already satisfied: setuptools in /usr/local/lib/python3.7/dist-packages (from tensorflow) (57.4.0)\n",
            "Requirement already satisfied: astunparse>=1.6.0 in /usr/local/lib/python3.7/dist-packages (from tensorflow) (1.6.3)\n",
            "Requirement already satisfied: typing-extensions>=3.6.6 in /usr/local/lib/python3.7/dist-packages (from tensorflow) (4.1.1)\n",
            "Requirement already satisfied: tensorboard<2.9,>=2.8 in /usr/local/lib/python3.7/dist-packages (from tensorflow) (2.8.0)\n",
            "Requirement already satisfied: gast>=0.2.1 in /usr/local/lib/python3.7/dist-packages (from tensorflow) (0.5.3)\n",
            "Requirement already satisfied: google-pasta>=0.1.1 in /usr/local/lib/python3.7/dist-packages (from tensorflow) (0.2.0)\n",
            "Collecting tf-estimator-nightly==2.8.0.dev2021122109\n",
            "  Downloading tf_estimator_nightly-2.8.0.dev2021122109-py2.py3-none-any.whl (462 kB)\n",
            "\u001b[K     |████████████████████████████████| 462 kB 29.5 MB/s \n",
            "\u001b[?25hRequirement already satisfied: tensorflow-io-gcs-filesystem>=0.23.1 in /usr/local/lib/python3.7/dist-packages (from tensorflow) (0.24.0)\n",
            "Requirement already satisfied: wrapt>=1.11.0 in /usr/local/lib/python3.7/dist-packages (from tensorflow) (1.14.0)\n",
            "Requirement already satisfied: grpcio<2.0,>=1.24.3 in /usr/local/lib/python3.7/dist-packages (from tensorflow) (1.44.0)\n",
            "Requirement already satisfied: six>=1.12.0 in /usr/local/lib/python3.7/dist-packages (from tensorflow) (1.15.0)\n",
            "Requirement already satisfied: termcolor>=1.1.0 in /usr/local/lib/python3.7/dist-packages (from tensorflow) (1.1.0)\n",
            "Requirement already satisfied: absl-py>=0.4.0 in /usr/local/lib/python3.7/dist-packages (from tensorflow) (1.0.0)\n",
            "Requirement already satisfied: keras<2.9,>=2.8.0rc0 in /usr/local/lib/python3.7/dist-packages (from tensorflow) (2.8.0)\n",
            "Requirement already satisfied: numpy>=1.20 in /usr/local/lib/python3.7/dist-packages (from tensorflow) (1.21.6)\n",
            "Requirement already satisfied: protobuf>=3.9.2 in /usr/local/lib/python3.7/dist-packages (from tensorflow) (3.17.3)\n",
            "Requirement already satisfied: keras-preprocessing>=1.1.1 in /usr/local/lib/python3.7/dist-packages (from tensorflow) (1.1.2)\n",
            "Requirement already satisfied: opt-einsum>=2.3.2 in /usr/local/lib/python3.7/dist-packages (from tensorflow) (3.3.0)\n",
            "Requirement already satisfied: libclang>=9.0.1 in /usr/local/lib/python3.7/dist-packages (from tensorflow) (13.0.0)\n",
            "Requirement already satisfied: wheel<1.0,>=0.23.0 in /usr/local/lib/python3.7/dist-packages (from astunparse>=1.6.0->tensorflow) (0.37.1)\n",
            "Requirement already satisfied: cached-property in /usr/local/lib/python3.7/dist-packages (from h5py>=2.9.0->tensorflow) (1.5.2)\n",
            "Requirement already satisfied: tensorboard-plugin-wit>=1.6.0 in /usr/local/lib/python3.7/dist-packages (from tensorboard<2.9,>=2.8->tensorflow) (1.8.1)\n",
            "Requirement already satisfied: google-auth-oauthlib<0.5,>=0.4.1 in /usr/local/lib/python3.7/dist-packages (from tensorboard<2.9,>=2.8->tensorflow) (0.4.6)\n",
            "Requirement already satisfied: markdown>=2.6.8 in /usr/local/lib/python3.7/dist-packages (from tensorboard<2.9,>=2.8->tensorflow) (3.3.6)\n",
            "Requirement already satisfied: google-auth<3,>=1.6.3 in /usr/local/lib/python3.7/dist-packages (from tensorboard<2.9,>=2.8->tensorflow) (1.35.0)\n",
            "Requirement already satisfied: werkzeug>=0.11.15 in /usr/local/lib/python3.7/dist-packages (from tensorboard<2.9,>=2.8->tensorflow) (1.0.1)\n",
            "Requirement already satisfied: tensorboard-data-server<0.7.0,>=0.6.0 in /usr/local/lib/python3.7/dist-packages (from tensorboard<2.9,>=2.8->tensorflow) (0.6.1)\n",
            "Requirement already satisfied: requests<3,>=2.21.0 in /usr/local/lib/python3.7/dist-packages (from tensorboard<2.9,>=2.8->tensorflow) (2.23.0)\n",
            "Requirement already satisfied: rsa<5,>=3.1.4 in /usr/local/lib/python3.7/dist-packages (from google-auth<3,>=1.6.3->tensorboard<2.9,>=2.8->tensorflow) (4.8)\n",
            "Requirement already satisfied: pyasn1-modules>=0.2.1 in /usr/local/lib/python3.7/dist-packages (from google-auth<3,>=1.6.3->tensorboard<2.9,>=2.8->tensorflow) (0.2.8)\n",
            "Requirement already satisfied: cachetools<5.0,>=2.0.0 in /usr/local/lib/python3.7/dist-packages (from google-auth<3,>=1.6.3->tensorboard<2.9,>=2.8->tensorflow) (4.2.4)\n",
            "Requirement already satisfied: requests-oauthlib>=0.7.0 in /usr/local/lib/python3.7/dist-packages (from google-auth-oauthlib<0.5,>=0.4.1->tensorboard<2.9,>=2.8->tensorflow) (1.3.1)\n",
            "Requirement already satisfied: importlib-metadata>=4.4 in /usr/local/lib/python3.7/dist-packages (from markdown>=2.6.8->tensorboard<2.9,>=2.8->tensorflow) (4.11.3)\n",
            "Requirement already satisfied: zipp>=0.5 in /usr/local/lib/python3.7/dist-packages (from importlib-metadata>=4.4->markdown>=2.6.8->tensorboard<2.9,>=2.8->tensorflow) (3.8.0)\n",
            "Requirement already satisfied: pyasn1<0.5.0,>=0.4.6 in /usr/local/lib/python3.7/dist-packages (from pyasn1-modules>=0.2.1->google-auth<3,>=1.6.3->tensorboard<2.9,>=2.8->tensorflow) (0.4.8)\n",
            "Requirement already satisfied: urllib3!=1.25.0,!=1.25.1,<1.26,>=1.21.1 in /usr/local/lib/python3.7/dist-packages (from requests<3,>=2.21.0->tensorboard<2.9,>=2.8->tensorflow) (1.24.3)\n",
            "Requirement already satisfied: idna<3,>=2.5 in /usr/local/lib/python3.7/dist-packages (from requests<3,>=2.21.0->tensorboard<2.9,>=2.8->tensorflow) (2.10)\n",
            "Requirement already satisfied: certifi>=2017.4.17 in /usr/local/lib/python3.7/dist-packages (from requests<3,>=2.21.0->tensorboard<2.9,>=2.8->tensorflow) (2021.10.8)\n",
            "Requirement already satisfied: chardet<4,>=3.0.2 in /usr/local/lib/python3.7/dist-packages (from requests<3,>=2.21.0->tensorboard<2.9,>=2.8->tensorflow) (3.0.4)\n",
            "Requirement already satisfied: oauthlib>=3.0.0 in /usr/local/lib/python3.7/dist-packages (from requests-oauthlib>=0.7.0->google-auth-oauthlib<0.5,>=0.4.1->tensorboard<2.9,>=2.8->tensorflow) (3.2.0)\n",
            "Installing collected packages: tf-estimator-nightly\n",
            "Successfully installed tf-estimator-nightly-2.8.0.dev2021122109\n"
          ]
        }
      ],
      "source": [
        "!pip install tensorflow"
      ]
    },
    {
      "cell_type": "code",
      "source": [],
      "metadata": {
        "id": "PxHkxYsROD7d"
      },
      "execution_count": null,
      "outputs": []
    },
    {
      "cell_type": "code",
      "execution_count": null,
      "metadata": {
        "colab": {
          "background_save": true,
          "base_uri": "https://localhost:8080/"
        },
        "id": "i_sJU2f9Xf0G",
        "outputId": "033e8cb6-13a5-4162-e5b7-c1142b603946"
      },
      "outputs": [
        {
          "name": "stdout",
          "output_type": "stream",
          "text": [
            "BTC-USD\n",
            "LTC-USD\n",
            "BCH-USD\n",
            "ETH-USD\n"
          ]
        },
        {
          "name": "stderr",
          "output_type": "stream",
          "text": [
            "/usr/local/lib/python3.7/dist-packages/ipykernel_launcher.py:29: FutureWarning: In a future version of pandas all arguments of DataFrame.drop except for the argument 'labels' will be keyword-only\n",
            "/usr/local/lib/python3.7/dist-packages/ipykernel_launcher.py:29: FutureWarning: In a future version of pandas all arguments of DataFrame.drop except for the argument 'labels' will be keyword-only\n"
          ]
        },
        {
          "name": "stdout",
          "output_type": "stream",
          "text": [
            "Epoch 1/10\n",
            "1218/1218 [==============================] - 477s 387ms/step - loss: 0.7103 - accuracy: 0.5261 - val_loss: 0.6828 - val_accuracy: 0.5547\n",
            "Epoch 2/10\n",
            "1218/1218 [==============================] - 467s 383ms/step - loss: 0.6879 - accuracy: 0.5435 - val_loss: 0.6772 - val_accuracy: 0.5689\n",
            "Epoch 3/10\n",
            "1218/1218 [==============================] - 461s 378ms/step - loss: 0.6853 - accuracy: 0.5511 - val_loss: 0.6798 - val_accuracy: 0.5697\n",
            "Epoch 4/10\n",
            "1218/1218 [==============================] - 452s 371ms/step - loss: 0.6822 - accuracy: 0.5594 - val_loss: 0.6729 - val_accuracy: 0.5754\n",
            "Epoch 5/10\n",
            "1218/1218 [==============================] - 460s 378ms/step - loss: 0.6796 - accuracy: 0.5691 - val_loss: 0.6787 - val_accuracy: 0.5847\n",
            "Epoch 6/10\n",
            "1218/1218 [==============================] - 462s 380ms/step - loss: 0.6782 - accuracy: 0.5714 - val_loss: 0.6753 - val_accuracy: 0.5806\n",
            "Epoch 7/10\n",
            "1218/1218 [==============================] - 463s 381ms/step - loss: 0.6759 - accuracy: 0.5744 - val_loss: 0.6719 - val_accuracy: 0.5803\n",
            "Epoch 8/10\n",
            "1218/1218 [==============================] - 466s 383ms/step - loss: 0.6726 - accuracy: 0.5823 - val_loss: 0.6727 - val_accuracy: 0.5873\n",
            "Epoch 9/10\n",
            "1218/1218 [==============================] - 466s 383ms/step - loss: 0.6683 - accuracy: 0.5885 - val_loss: 0.6732 - val_accuracy: 0.5793\n",
            "Epoch 10/10\n",
            "1218/1218 [==============================] - 462s 379ms/step - loss: 0.6618 - accuracy: 0.5996 - val_loss: 0.6736 - val_accuracy: 0.5824\n"
          ]
        }
      ],
      "source": [
        "import pandas as pd\n",
        "from collections import deque\n",
        "import random\n",
        "import numpy as np\n",
        "import tensorflow as tf\n",
        "from tensorflow.keras.models import Sequential\n",
        "from tensorflow.keras.layers import Dense, Dropout, LSTM,  BatchNormalization\n",
        "from tensorflow.keras.callbacks import TensorBoard\n",
        "from tensorflow.keras.callbacks import ModelCheckpoint, ModelCheckpoint\n",
        "from tensorflow.keras import layers, callbacks\n",
        "import time\n",
        "from sklearn import preprocessing\n",
        "\n",
        "CC_A_PRED = \"LTC-USD\"\n",
        "PERIODE_PRED = 3  # peride de prediction en minutes\n",
        "LONG_SEQ = 60  # longueur de la sequence \n",
        "TAUX_VAL=0.05\n",
        "EPOCHS = 10  \n",
        "BATCH_SIZE = 64 \n",
        "\n",
        "early_stopping = callbacks.EarlyStopping(\n",
        "    min_delta=0.001, \n",
        "    patience=20, \n",
        "    restore_best_weights=True,\n",
        ")\n",
        "\n",
        "\n",
        "def preprocess_df(df):    \n",
        "    df = df.drop(\"futur\", 1)\n",
        "    for col in df.columns:  \n",
        "        if col != \"decision\":  \n",
        "            df[col] = df[col].pct_change()  \n",
        "            df.dropna(inplace=True)  # supprimer les 'NaN' crées par pct_change\n",
        "            df[col] = preprocessing.scale(df[col].values)  # echelonner les donnes (entre 0 et 1)\n",
        "\n",
        "    df.dropna(inplace=True)  \n",
        "\n",
        "\n",
        "    seq = []  # listes des sequences\n",
        "    heure = deque(maxlen=LONG_SEQ)  # file\n",
        "    for i in df.values:  # df.values est un ndarray de dimensions 2 dont les lignes = les minutes et les colonnes = les caracteristiques\n",
        "        heure.append([n for n in i[:-1]])  # i est ndarray a 1 dimension (minute)\n",
        "        if len(heure) == LONG_SEQ:  \n",
        "            seq.append([np.array(heure), i[-1]])  # i[-1] = decision de la derniere minute dans l'heure par rapport aux 3 min precedentes\n",
        "    random.shuffle(seq)  # melanger des les sequences (les heures) au hasard\n",
        "\n",
        "    achat = []  \n",
        "    vente = []  \n",
        "\n",
        "    for sequence, dec in seq:  # (sequence,dec) est une heure dont sequence est un ndarray a 2 dimensions \n",
        "        if dec == 0:  \n",
        "            vente.append([sequence, dec])  \n",
        "        elif dec == 1:  \n",
        "            achat.append([sequence, dec])  \n",
        "\n",
        "    random.shuffle(achat)  \n",
        "    random.shuffle(vente)  \n",
        "\n",
        "    lower = min(len(achat), len(vente))  \n",
        "\n",
        "    achat = achat[:lower]  \n",
        "    vente = vente[:lower]  \n",
        "\n",
        "    seq2 = achat+vente  \n",
        "    random.shuffle(seq2)  \n",
        "\n",
        "    X = []\n",
        "    y = []\n",
        "\n",
        "    for sequence,dec in seq2:  \n",
        "        X.append(sequence) \n",
        "        y.append(dec)  \n",
        "\n",
        "    return np.array(X), np.array(y) \n",
        "\n",
        "\n",
        "\n",
        "def classifier(actuel, futur):\n",
        "    if float(futur) > float(actuel): \n",
        "        return 1\n",
        "    else:  \n",
        "        return 0\n",
        "\n",
        "\n",
        "\n",
        "main_df = pd.DataFrame()\n",
        "\n",
        "ccs = [\"BTC-USD\", \"LTC-USD\", \"BCH-USD\", \"ETH-USD\"]  # les 4 cc \n",
        "for cc in ccs:  \n",
        "\n",
        "    print(cc)\n",
        "    dataset = f'/content/{cc}.csv'  \n",
        "    df = pd.read_csv(dataset, names=['time', 'low', 'high', 'open', 'close', 'volume'])  \n",
        "\n",
        "    df.rename(columns={\"close\": f\"{cc}_close\", \"volume\": f\"{cc}_volume\"}, inplace=True)\n",
        "    df.set_index(\"time\", inplace=True) # prendre time comme indice\n",
        "    df = df[[f\"{cc}_close\", f\"{cc}_volume\"]]  # ignorer les autres colonnes autre que close et volume\n",
        "\n",
        "    if len(main_df)==0:  \n",
        "        main_df = df  \n",
        "    else:  \n",
        "        main_df = main_df.join(df)\n",
        "\n",
        "main_df.fillna(method=\"ffill\", inplace=True)  # remplir les troux dans les données avec les valeurs precedentes\n",
        "main_df.dropna(inplace=True)\n",
        "#print(main_df.head())  \n",
        "\n",
        "main_df['futur'] = main_df[f'{CC_A_PRED}_close'].shift(-PERIODE_PRED)\n",
        "main_df['decision'] = list(map(classifier, main_df[f'{CC_A_PRED}_close'], main_df['futur']))\n",
        "\n",
        "main_df.dropna(inplace=True)\n",
        "\n",
        "\n",
        "temps = sorted(main_df.index.values)\n",
        "dern_pct = temps[-int(TAUX_VAL*len(temps))] # l'indice a partir du quel on va separer les données dentrainement et celles de validation\n",
        "\n",
        "validation_main_df = main_df[(main_df.index >= dern_pct)]\n",
        "main_df = main_df[(main_df.index < dern_pct)]\n",
        "\n",
        "train_x, train_y = preprocess_df(main_df)\n",
        "validation_x, validation_y = preprocess_df(validation_main_df)\n",
        "\n",
        "\n",
        "model = Sequential()\n",
        "model.add(LSTM(128, input_shape=(train_x.shape[1:]), return_sequences=True))\n",
        "model.add(Dropout(0.2))\n",
        "model.add(BatchNormalization())\n",
        "\n",
        "model.add(LSTM(128, return_sequences=True))\n",
        "model.add(Dropout(0.1))\n",
        "model.add(BatchNormalization())\n",
        "\n",
        "model.add(LSTM(128))\n",
        "model.add(Dropout(0.2))\n",
        "model.add(BatchNormalization())\n",
        "\n",
        "model.add(Dense(32, activation='relu'))\n",
        "model.add(Dropout(0.2))\n",
        "\n",
        "model.add(Dense(2, activation='softmax'))\n",
        "\n",
        "\n",
        "opt = tf.keras.optimizers.Adam(learning_rate=0.001, decay=1e-6)\n",
        "\n",
        "\n",
        "model.compile(\n",
        "    loss='sparse_categorical_crossentropy',\n",
        "    optimizer=opt,\n",
        "    metrics=['accuracy']\n",
        ")\n",
        "\n",
        "\n",
        "\n",
        "history = model.fit(\n",
        "    train_x, train_y,\n",
        "    batch_size=BATCH_SIZE,\n",
        "    epochs=EPOCHS,\n",
        "    validation_data=(validation_x, validation_y),\n",
        "    #callbacks=[early_stopping],\n",
        ")\n",
        "\n"
      ]
    },
    {
      "cell_type": "markdown",
      "metadata": {
        "id": "P4JK4nHN0MK9"
      },
      "source": []
    },
    {
      "cell_type": "code",
      "execution_count": null,
      "metadata": {
        "id": "p66_tz5oYcRY"
      },
      "outputs": [],
      "source": [
        "import matplotlib.pyplot as plt\n",
        "plt.style.use('seaborn-whitegrid')\n",
        "# Set Matplotlib defaults\n",
        "plt.rc('figure', autolayout=True)\n",
        "plt.rc('axes', labelweight='bold', labelsize='large',\n",
        "       titleweight='bold', titlesize=18, titlepad=10)\n",
        "plt.rc('animation', html='html5')\n"
      ]
    },
    {
      "cell_type": "code",
      "execution_count": null,
      "metadata": {
        "colab": {
          "base_uri": "https://localhost:8080/",
          "height": 785
        },
        "id": "5hcnlz24VVZl",
        "outputId": "043d6c2a-9ae9-4281-be73-ffd42f80eae5"
      },
      "outputs": [
        {
          "name": "stdout",
          "output_type": "stream",
          "text": [
            "       loss  accuracy  val_loss  val_accuracy\n",
            "0  0.719715  0.516648  0.688203      0.525048\n",
            "1  0.687966  0.544757  0.673768      0.580850\n",
            "2  0.681192  0.564057  0.663346      0.608117\n",
            "3  0.676822  0.575399  0.657647      0.614458\n",
            "4  0.672633  0.586503  0.663937      0.597020\n",
            "5  0.665335  0.598888  0.650565      0.612873\n",
            "6  0.660225  0.604790  0.643555      0.636652\n",
            "7  0.656259  0.611571  0.641057      0.638237\n",
            "8  0.654061  0.614284  0.658797      0.612873\n",
            "9  0.650840  0.618144  0.649818      0.631579\n"
          ]
        },
        {
          "data": {
            "text/plain": [
              "<matplotlib.axes._subplots.AxesSubplot at 0x7ffb5014d310>"
            ]
          },
          "execution_count": 20,
          "metadata": {},
          "output_type": "execute_result"
        },
        {
          "data": {
            "image/png": "[encoded data removed]",
            "text/plain": [
              "<Figure size 432x288 with 1 Axes>"
            ]
          },
          "metadata": {},
          "output_type": "display_data"
        },
        {
          "data": {
            "image/png": "[encoded data removed]",
            "text/plain": [
              "<Figure size 432x288 with 1 Axes>"
            ]
          },
          "metadata": {},
          "output_type": "display_data"
        }
      ],
      "source": [
        "history_df = pd.DataFrame(history.history)\n",
        "print(history_df)\n",
        "history_df.loc[:, ['loss', 'val_loss']].plot(title=\"Cross-entropy\")\n",
        "history_df.loc[:, ['accuracy', 'val_accuracy']].plot(title=\"Accuracy\")"
      ]
    },
    {
      "cell_type": "code",
      "execution_count": null,
      "metadata": {
        "colab": {
          "base_uri": "https://localhost:8080/"
        },
        "id": "uTPuihj1n7BX",
        "outputId": "eb64e0f6-d1d8-4594-860a-44871c897086"
      },
      "outputs": [
        {
          "name": "stderr",
          "output_type": "stream",
          "text": [
            "UsageError: Line magic function `%tensorboard` not found.\n"
          ]
        }
      ],
      "source": [
        "%tensorboard --logdir logs/gradient_tape"
      ]
    },
    {
      "cell_type": "code",
      "execution_count": null,
      "metadata": {
        "id": "YmszcsMcun3u"
      },
      "outputs": [],
      "source": []
    }
  ],
  "metadata": {
    "colab": {
      "collapsed_sections": [],
      "name": "Untitled0.ipynb",
      "provenance": [],
      "authorship_tag": "ABX9TyOsgXclqDTjpInw+e+bK4C+",
      "include_colab_link": true
    },
    "kernelspec": {
      "display_name": "Python 3",
      "name": "python3"
    },
    "language_info": {
      "name": "python"
    }
  },
  "nbformat": 4,
  "nbformat_minor": 0
}